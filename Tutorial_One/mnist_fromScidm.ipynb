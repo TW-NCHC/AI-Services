{
 "cells": [
  {
   "cell_type": "markdown",
   "metadata": {},
   "source": [
    "## Introduction\n",
    "\n",
    "- MNIST 是一個手寫數字的圖像資料集，我們將用於圖像辨識的範例之中。\n",
    "\n",
    "- MNIST 資料集常用於機器學習訓練和測試的教學。\n",
    "  資料集包含 60000 個訓練圖片和 10000 個測試圖片，每個圖片大小是 28 * 28 像素。\n",
    "\n",
    "  <img src=\"https://upload.wikimedia.org/wikipedia/commons/2/27/MnistExamples.png\">\n",
    "  "
   ]
  },
  {
   "cell_type": "markdown",
   "metadata": {},
   "source": [
    "## 0. 引用相關模組"
   ]
  },
  {
   "cell_type": "code",
   "execution_count": null,
   "metadata": {},
   "outputs": [],
   "source": [
    "'''Trains a simple convnet on the MNIST dataset.'''\n",
    "\n",
    "\n",
    "from __future__ import print_function\n",
    "import tensorflow.keras as keras\n",
    "\n",
    "from tensorflow.python.keras.models import Sequential\n",
    "from tensorflow.python.keras.layers import Dense, Dropout, Flatten\n",
    "from tensorflow.python.keras.layers import Conv2D, MaxPooling2D\n",
    "from tensorflow.keras import backend as K\n",
    "import requests\n",
    "# import pandas as pd\n",
    "from numpy import genfromtxt\n",
    "import zipfile\n",
    "import numpy as np\n",
    "import matplotlib.pyplot as plt\n",
    "\n",
    "\n",
    "# input image dimensions\n",
    "img_rows, img_cols = 28, 28\n",
    "batch_size = 128\n",
    "num_classes = 10\n",
    "epochs = 12\n"
   ]
  },
  {
   "cell_type": "markdown",
   "metadata": {},
   "source": [
    "## 1. 資料讀取(Data reading)\n",
    "\n",
    "- 自Scidm讀取 MNIST 資料集，將資料解壓縮，並分為訓練資料集及測試資料集\n",
    "- 宣告函式：讀取 MNIST 並格式化為 28*28 陣列"
   ]
  },
  {
   "cell_type": "code",
   "execution_count": null,
   "metadata": {},
   "outputs": [],
   "source": [
    "# load mnist method 1\n",
    "def download_unzip(url):\n",
    "    print(\"[1-1] Download MNIST from scidm.nchc.org.tw\")\n",
    "    local_filename = url.split('/')[-1]\n",
    "    r = requests.get(url)\n",
    "\n",
    "    # NOTE the stream=True parameter below\n",
    "    #with requests.get(url, stream=True) as r:\n",
    "    r.raise_for_status()\n",
    "    with open(local_filename, 'wb') as f:\n",
    "        for chunk in r.iter_content(chunk_size=8192): \n",
    "            if chunk: # filter out keep-alive new chunks\n",
    "                f.write(chunk)\n",
    "    print(\"[Finish] Downloaded\")\n",
    "    print(\"[1-2] unzip file\")\n",
    "    with zipfile.ZipFile(local_filename, 'r') as zip_ref:\n",
    "        zip_ref.extractall(\"./\")\n",
    "    print(\"[Finish] generating mnist_test.csv & mnist_train.csv\")\n",
    "    return local_filename\n",
    "\n",
    "mnist_in_csv_zip = \"https://scidm.nchc.org.tw/dataset/ef890176-6fd9-499d-9687-5fe2863c6941/resource/ce2b188c-bb3e-41ab-8dfc-d9b6e665fbd4/nchcproxy/mnist-in-csv.zip\"\n",
    "download_unzip(mnist_in_csv_zip)\n",
    "\n",
    "print(\"[1-3] loading mnist file into data structure \")\n",
    "\n",
    "mnist_test = genfromtxt(\"mnist_test.csv\", delimiter=',')    \n",
    "mnist_train = genfromtxt(\"mnist_train.csv\", delimiter=',')    \n",
    "\n",
    "x_train= mnist_train[1:,1:]\n",
    "y_train= mnist_train[1:,0:1]\n",
    "x_test = mnist_test[1:,1:]\n",
    "y_test = mnist_test[1:,0:1]\n",
    "\n"
   ]
  },
  {
   "cell_type": "code",
   "execution_count": null,
   "metadata": {},
   "outputs": [],
   "source": [
    "for i in range(10):\n",
    "    print(\"label: \"+str(y_train[i]))\n",
    "    show_img = x_train[i].reshape(28,28)\n",
    "    plt.imshow(show_img,aspect=\"auto\")\n",
    "    plt.show()"
   ]
  },
  {
   "cell_type": "markdown",
   "metadata": {},
   "source": [
    "# 2.資料處理(Data preprocessing)：\n",
    "\n",
    "## 2-1 image reshape\n",
    "- 圖像資料：\n",
    "  將資料下載後儲存於在本地端資料夾，本地文件夾中保存圖片：圖像儲存為 28 * 28 = 784 長度的向量。\n",
    "- CNN：\n",
    "  image reshape (60000, 28, 28, 1): CNN 因為必須先進行卷積與池化 (Max-Pool) 運算, 所以必須保留影像的維度. 因此 60,000 筆轉換成一筆成 28 (長) x 28(寬) x 1(高) 的影像單位.\n",
    "\n",
    "## 2-2 one-hot encoding\n",
    "- 標籤資料：\n",
    "  使用有效編碼(One-Hot Encoding)編碼格式儲存，用於表示名目尺度的一種編碼格式，使用時較有效率。"
   ]
  },
  {
   "cell_type": "code",
   "execution_count": null,
   "metadata": {},
   "outputs": [],
   "source": [
    "print(\"[2-1 ] reshape data into to (n, 28, 28, 1) \")\n",
    "\n",
    "x_train = x_train.reshape(len(x_train), 28, 28,1)\n",
    "x_test = x_test.reshape(len(x_test), 28, 28,1)\n",
    "input_shape = (img_rows, img_cols, 1)\n",
    "x_train = x_train.astype('float32')\n",
    "x_test = x_test.astype('float32')\n",
    "x_train /= 255\n",
    "x_test /= 255\n",
    "\n",
    "print(\"x_train =shape=> {}\".format(x_train.shape))\n",
    "print(\"y_train =shape=> {}\".format(y_train.shape))\n",
    "print(\"x_test =shape=> {}\".format(x_test.shape))\n",
    "print(\"y_test =shape=> {}\".format(y_test.shape))\n",
    "\n",
    "print(\"[Finish] converted \")\n",
    "\n",
    "print(\"[2-2] One-Hot Encoding \")\n",
    "# convert class vectors to binary class matrices\n",
    "\n",
    "y_train = keras.utils.to_categorical(y_train, num_classes)\n",
    "y_test = keras.utils.to_categorical(y_test, num_classes)\n",
    "print(\"[Finish] converted \")"
   ]
  },
  {
   "cell_type": "code",
   "execution_count": null,
   "metadata": {},
   "outputs": [],
   "source": [
    "for i in range(1000,1006):\n",
    "    print(\"label: \"+str(y_train[i]))\n",
    "    show_img = x_train[i].reshape(28,28)\n",
    "    plt.imshow(show_img,aspect=\"auto\")\n",
    "    plt.show()"
   ]
  },
  {
   "cell_type": "markdown",
   "metadata": {},
   "source": [
    "# 3.  CNN運算 (Convolution) \n",
    "\n",
    "[卷積神經網路(Convolutional Neural Network, CNN)](https://zh.wikipedia.org/wiki/%E5%8D%B7%E7%A7%AF%E7%A5%9E%E7%BB%8F%E7%BD%91%E7%BB%9C)\n",
    "\n",
    "## 3-1. 建立卷積層與池化層 \n",
    "[卷積層&池化層](https://zh.wikipedia.org/wiki/%E5%8D%B7%E7%A7%AF%E7%A5%9E%E7%BB%8F%E7%BD%91%E7%BB%9C#%E5%8D%B7%E7%A9%8D%E5%B1%A4)\n",
    "\n",
    "## 3-2. 建立神經網路 \n",
    "- 建立平坦層 \n",
    "  - 下面程式碼建立平坦層, 將之前步驟已經建立的池化層2, 共有 36 個 7x7 維度的影像轉換成 1 維向量, 長度是 36x7x7 = 1764, 也就是對應到 1764 個神經元: \n",
    "- 建立 Hidden layer \n",
    "- 建立輸出層 \n",
    "  - 最後建立輸出層, 共有 10 個神經元, 對應到 0~9 共 10 個數字. 並使用 softmax 激活函數 進行轉換 (softmax 函數可以將神經元的輸出轉換成每一個數字的機率): \n",
    "\n",
    "## 3-3. 查看模型的摘要 "
   ]
  },
  {
   "cell_type": "code",
   "execution_count": null,
   "metadata": {},
   "outputs": [],
   "source": [
    "print(\"[3-1] initial CN \")\n",
    "\n",
    "model = Sequential()\n",
    "# Create CN layer 1  \n",
    "model.add(Conv2D(32, kernel_size=(3, 3),\n",
    "                 activation='relu',\n",
    "                 input_shape=input_shape))\n",
    "#? Create Max-Pool 1\n",
    "#? model.add(MaxPooling2D(pool_size=(2,2)))  \n",
    "\n",
    "# Create CN layer 2  \n",
    "model.add(Conv2D(64, (3, 3), activation='relu'))\n",
    "# Create Max-Pool 2 \n",
    "model.add(MaxPooling2D(pool_size=(2, 2)))\n",
    "# Add Dropout layer  \n",
    "model.add(Dropout(0.25))\n",
    "\n",
    "print(\"[3-2] create NN layer \")\n",
    "# Add Flatten layer\n",
    "model.add(Flatten())\n",
    "# Add Hidden layer\n",
    "model.add(Dense(128, activation='relu'))\n",
    "# Add Dropout layer  \n",
    "model.add(Dropout(0.5))\n",
    "\n",
    "# Add Output by softmax\n",
    "model.add(Dense(num_classes, activation='softmax'))\n",
    "print(\"[3-3] check summary \")\n",
    "model.summary() "
   ]
  },
  {
   "cell_type": "markdown",
   "metadata": {},
   "source": [
    "# 4.  用CNN模組進行訓練\n",
    "定義訓練並進行訓練 "
   ]
  },
  {
   "cell_type": "code",
   "execution_count": null,
   "metadata": {},
   "outputs": [],
   "source": [
    "model.compile(loss=keras.losses.categorical_crossentropy,\n",
    "              optimizer=keras.optimizers.Adadelta(),\n",
    "              metrics=['accuracy'])\n",
    "print(\"[Finish] keras model success\")\n",
    "print(\"[4] evaluate...\")\n",
    "model.fit(x_train, y_train,\n",
    "          batch_size=batch_size,\n",
    "          epochs=epochs,\n",
    "          verbose=1,\n",
    "          validation_data=(x_test, y_test))\n",
    "score = model.evaluate(x_test, y_test, verbose=0)\n",
    "print('Test loss:', score[0])\n",
    "print('Test accuracy:', score[1])\n",
    "\n",
    "print(\"[done] \")"
   ]
  },
  {
   "cell_type": "code",
   "execution_count": null,
   "metadata": {},
   "outputs": [],
   "source": []
  }
 ],
 "metadata": {
  "kernelspec": {
   "display_name": "Python 3",
   "language": "python",
   "name": "python3"
  },
  "language_info": {
   "codemirror_mode": {
    "name": "ipython",
    "version": 3
   },
   "file_extension": ".py",
   "mimetype": "text/x-python",
   "name": "python",
   "nbconvert_exporter": "python",
   "pygments_lexer": "ipython3",
   "version": "3.5.2"
  }
 },
 "nbformat": 4,
 "nbformat_minor": 2
}
